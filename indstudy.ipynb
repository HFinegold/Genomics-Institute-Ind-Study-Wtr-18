{
 "cells": [
  {
   "cell_type": "markdown",
   "metadata": {},
   "source": [
    "The purpose of this excercise is to become familair with plotting RNA sequencing samples and generating a Matplotlib histogram with them."
   ]
  },
  {
   "cell_type": "code",
   "execution_count": 6,
   "metadata": {
    "collapsed": true,
    "scrolled": true
   },
   "outputs": [],
   "source": [
    "import numpy as np\n",
    "import csv\n",
    "\n",
    "data = []\n",
    "\n",
    "with open('E-MTAB-5214-query-results.tpms.tsv') as fid:\n",
    "    csvfile = csv.reader(fid, delimiter= '\\t')\n",
    "    for line in csvfile:\n",
    "        data.append(line)\n",
    "data = np.array(data)"
   ]
  },
  {
   "cell_type": "code",
   "execution_count": 14,
   "metadata": {},
   "outputs": [
    {
     "data": {
      "image/png": "[encoded data removed]",
      "text/plain": [
       "<matplotlib.figure.Figure at 0x12ff65910>"
      ]
     },
     "metadata": {},
     "output_type": "display_data"
    }
   ],
   "source": [
    "import matplotlib.mlab as mlab\n",
    "import matplotlib.pyplot as plt\n",
    "\n",
    "\n",
    "num_bins = 10000\n",
    "\n",
    "fig, ax = plt.subplots()\n",
    "ax.set_xlim (0,100) \n",
    "\n",
    "# the histogram of the data\n",
    "n, bins, patches = ax.hist([float(x) for x in data[:,2] if x], num_bins)\n",
    "\n",
    "ax.set_ylabel('Expression Vector')\n",
    "ax.set_xlabel('Genes Expressed')\n",
    "ax.set_title('Histogram of Genes Expressed in 53 Human Tissue Samples')\n",
    "\n",
    "# Tweak spacing to prevent clipping of ylabel\n",
    "fig.tight_layout()\n",
    "plt.show()\n",
    "\n"
   ]
  },
  {
   "cell_type": "markdown",
   "metadata": {},
   "source": [
    "The graph above is similar to the graph shown on the Expression Atlas website. However, we reduced the number of bins because our original graph was too condensed in one area. "
   ]
  },
  {
   "cell_type": "code",
   "execution_count": 10,
   "metadata": {},
   "outputs": [
    {
     "data": {
      "text/plain": [
       "array(['ENSG00000000003', 'TSPAN6', '6.0', '5.0', '7.0', '0.3', '17.0',\n",
       "       '7.0', '11.0', '5.0', '0.2', '36.0', '7.0', '2.0', '3.0', '5.0',\n",
       "       '11.0', '15.0', '39.0', '47.0', '10.0', '37.0', '8.0', '30.0',\n",
       "       '28.0', '2.0', '6.0', '9.0', '24.0', '11.0', '14.0', '32.0', '7.0',\n",
       "       '81.0', '9.0', '51.0', '22.0', '4.0', '11.0', '2.0', '18.0', '10.0',\n",
       "       '13.0', '33.0', '6.0', '10.0', '70.0', '22.0', '9.0', '35.0',\n",
       "       '20.0', '38.0', '16.0', '33.0', '31.0'], \n",
       "      dtype='|S25')"
      ]
     },
     "execution_count": 10,
     "metadata": {},
     "output_type": "execute_result"
    }
   ],
   "source": [
    "data [0]"
   ]
  },
  {
   "cell_type": "code",
   "execution_count": 11,
   "metadata": {},
   "outputs": [
    {
     "data": {
      "text/plain": [
       "array(['6.0', '0.2', '26.0', ..., '1.0', '0.1', '0.8'], \n",
       "      dtype='|S25')"
      ]
     },
     "execution_count": 11,
     "metadata": {},
     "output_type": "execute_result"
    }
   ],
   "source": [
    "data[:,2]"
   ]
  },
  {
   "cell_type": "code",
   "execution_count": 14,
   "metadata": {},
   "outputs": [
    {
     "data": {
      "text/plain": [
       "86609.0"
      ]
     },
     "execution_count": 14,
     "metadata": {},
     "output_type": "execute_result"
    }
   ],
   "source": [
    "np.max ([float(x) for x in data[:,2] if x])"
   ]
  },
  {
   "cell_type": "code",
   "execution_count": 13,
   "metadata": {},
   "outputs": [
    {
     "data": {
      "image/png": "[encoded data removed]",
      "text/plain": [
       "<matplotlib.figure.Figure at 0x1216150d0>"
      ]
     },
     "metadata": {},
     "output_type": "display_data"
    }
   ],
   "source": [
    "num_bins = 20\n",
    "\n",
    "fig, ax = plt.subplots()\n",
    "ax.set_xlim (0,100) \n",
    "\n",
    "# the histogram of the data\n",
    "n, bins, patches = ax.hist([float(x) for x in data[0][2:] if x], num_bins)\n",
    "\n",
    "ax.set_ylabel('Expression Vector')\n",
    "ax.set_xlabel('Genes Expressed')\n",
    "ax.set_title('Histogram of Genes Expressed in 53 Human Tissue Samples')\n",
    "\n",
    "# Tweak spacing to prevent clipping of ylabel\n",
    "fig.tight_layout()\n",
    "plt.show()"
   ]
  },
  {
   "cell_type": "code",
   "execution_count": 23,
   "metadata": {},
   "outputs": [
    {
     "data": {
      "text/plain": [
       "81.0"
      ]
     },
     "execution_count": 23,
     "metadata": {},
     "output_type": "execute_result"
    }
   ],
   "source": [
    "np.max ([float(x) for x in data[0][2:] if x])"
   ]
  },
  {
   "cell_type": "code",
   "execution_count": null,
   "metadata": {
    "collapsed": true
   },
   "outputs": [],
   "source": []
  }
 ],
 "metadata": {
  "kernelspec": {
   "display_name": "Python 2",
   "language": "python",
   "name": "python2"
  },
  "language_info": {
   "codemirror_mode": {
    "name": "ipython",
    "version": 2
   },
   "file_extension": ".py",
   "mimetype": "text/x-python",
   "name": "python",
   "nbconvert_exporter": "python",
   "pygments_lexer": "ipython2",
   "version": "2.7.13"
  }
 },
 "nbformat": 4,
 "nbformat_minor": 2
}
