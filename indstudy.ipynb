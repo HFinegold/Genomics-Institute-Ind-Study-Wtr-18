{
 "cells": [
  {
   "cell_type": "markdown",
   "metadata": {},
   "source": [
    "The purpose of this excercise is to become familair with plotting RNA sequencing samples and generating a Matplotlib histogram with them."
   ]
  },
  {
   "cell_type": "code",
   "execution_count": 2,
   "metadata": {
    "collapsed": true,
    "scrolled": true
   },
   "outputs": [],
   "source": [
    "import numpy as np\n",
    "import csv\n",
    "\n",
    "data = []\n",
    "first_line = True\n",
    "\n",
    "with open('E-MTAB-5214-query-results.tpms.tsv') as fid:\n",
    "    csvfile = csv.reader(fid, delimiter= '\\t')\n",
    "    for line in csvfile:\n",
    "        if first_line:\n",
    "            names = line\n",
    "            first_line = False\n",
    "        else:\n",
    "            data.append(line)\n",
    "data = np.array(data)"
   ]
  },
  {
   "cell_type": "code",
   "execution_count": 3,
   "metadata": {},
   "outputs": [
    {
     "data": {
      "text/plain": [
       "['Gene ID',\n",
       " 'Gene Name',\n",
       " 'Brodmann (1909) area 24',\n",
       " 'Brodmann (1909) area 9',\n",
       " 'C1 segment of cervical spinal cord',\n",
       " 'EBV-transformed lymphocyte',\n",
       " 'adrenal gland',\n",
       " 'amygdala',\n",
       " 'aorta',\n",
       " 'atrium auricular region',\n",
       " 'blood',\n",
       " 'breast',\n",
       " 'caudate nucleus',\n",
       " 'cerebellar hemisphere',\n",
       " 'cerebellum',\n",
       " 'cerebral cortex',\n",
       " 'coronary artery',\n",
       " 'cortex of kidney',\n",
       " 'ectocervix',\n",
       " 'endocervix',\n",
       " 'esophagogastric junction',\n",
       " 'esophagus mucosa',\n",
       " 'esophagus muscularis mucosa',\n",
       " 'fallopian tube',\n",
       " 'greater omentum',\n",
       " 'heart left ventricle',\n",
       " 'hippocampus proper',\n",
       " 'hypothalamus',\n",
       " 'liver',\n",
       " 'lower leg skin',\n",
       " 'lung',\n",
       " 'minor salivary gland',\n",
       " 'nucleus accumbens',\n",
       " 'ovary',\n",
       " 'pancreas',\n",
       " 'pituitary gland',\n",
       " 'prostate gland',\n",
       " 'putamen',\n",
       " 'sigmoid colon',\n",
       " 'skeletal muscle tissue',\n",
       " \"small intestine Peyer's patch\",\n",
       " 'spleen',\n",
       " 'stomach',\n",
       " 'subcutaneous adipose tissue',\n",
       " 'substantia nigra',\n",
       " 'suprapubic skin',\n",
       " 'testis',\n",
       " 'thyroid gland',\n",
       " 'tibial artery',\n",
       " 'tibial nerve',\n",
       " 'transformed skin fibroblast',\n",
       " 'transverse colon',\n",
       " 'urinary bladder',\n",
       " 'uterus',\n",
       " 'vagina']"
      ]
     },
     "execution_count": 3,
     "metadata": {},
     "output_type": "execute_result"
    }
   ],
   "source": [
    "names"
   ]
  },
  {
   "cell_type": "code",
   "execution_count": 4,
   "metadata": {},
   "outputs": [
    {
     "data": {
      "image/png": "[encoded data removed]",
      "text/plain": [
       "<matplotlib.figure.Figure at 0x116a23790>"
      ]
     },
     "metadata": {},
     "output_type": "display_data"
    }
   ],
   "source": [
    "import matplotlib.mlab as mlab\n",
    "import matplotlib.pyplot as plt\n",
    "\n",
    "\n",
    "num_bins = 10000\n",
    "\n",
    "fig, ax = plt.subplots()\n",
    "ax.set_xlim (0,100) \n",
    "\n",
    "# the histogram of the data\n",
    "n, bins, patches = ax.hist([float(x) for x in data[:,2] if x], num_bins)\n",
    "\n",
    "ax.set_ylabel('Number of samples with expression')\n",
    "ax.set_xlabel('Expressed Level')\n",
    "ax.set_title('Histogram of Genes Expressed in 53 Human Tissue Samples')\n",
    "\n",
    "# Tweak spacing to prevent clipping of ylabel\n",
    "fig.tight_layout()\n",
    "plt.show()\n",
    "\n"
   ]
  },
  {
   "cell_type": "markdown",
   "metadata": {},
   "source": [
    "The graph above is similar to the graph shown on the Expression Atlas website. However, we reduced the number of bins because our original graph was too condensed in one area. "
   ]
  },
  {
   "cell_type": "code",
   "execution_count": 5,
   "metadata": {},
   "outputs": [
    {
     "data": {
      "text/plain": [
       "array(['ENSG00000000003', 'TSPAN6', '6.0', '5.0', '7.0', '0.3', '17.0',\n",
       "       '7.0', '11.0', '5.0', '0.2', '36.0', '7.0', '2.0', '3.0', '5.0',\n",
       "       '11.0', '15.0', '39.0', '47.0', '10.0', '37.0', '8.0', '30.0',\n",
       "       '28.0', '2.0', '6.0', '9.0', '24.0', '11.0', '14.0', '32.0', '7.0',\n",
       "       '81.0', '9.0', '51.0', '22.0', '4.0', '11.0', '2.0', '18.0', '10.0',\n",
       "       '13.0', '33.0', '6.0', '10.0', '70.0', '22.0', '9.0', '35.0',\n",
       "       '20.0', '38.0', '16.0', '33.0', '31.0'], \n",
       "      dtype='|S25')"
      ]
     },
     "execution_count": 5,
     "metadata": {},
     "output_type": "execute_result"
    }
   ],
   "source": [
    "data [0]"
   ]
  },
  {
   "cell_type": "code",
   "execution_count": 6,
   "metadata": {},
   "outputs": [
    {
     "data": {
      "text/plain": [
       "array(['6.0', '0.2', '26.0', ..., '1.0', '0.1', '0.8'], \n",
       "      dtype='|S25')"
      ]
     },
     "execution_count": 6,
     "metadata": {},
     "output_type": "execute_result"
    }
   ],
   "source": [
    "data[:,2]"
   ]
  },
  {
   "cell_type": "code",
   "execution_count": 7,
   "metadata": {},
   "outputs": [
    {
     "data": {
      "text/plain": [
       "86609.0"
      ]
     },
     "execution_count": 7,
     "metadata": {},
     "output_type": "execute_result"
    }
   ],
   "source": [
    "np.max ([float(x) for x in data[:,2] if x])"
   ]
  },
  {
   "cell_type": "code",
   "execution_count": 8,
   "metadata": {},
   "outputs": [
    {
     "data": {
      "image/png": "[encoded data removed]",
      "text/plain": [
       "<matplotlib.figure.Figure at 0x11675c050>"
      ]
     },
     "metadata": {},
     "output_type": "display_data"
    }
   ],
   "source": [
    "num_bins = 20\n",
    "\n",
    "fig, ax = plt.subplots()\n",
    "ax.set_xlim (0,100) \n",
    "\n",
    "# the histogram of the data\n",
    "n, bins, patches = ax.hist([float(x) for x in data[0][2:] if x], num_bins)\n",
    "\n",
    "ax.set_ylabel('Number of samples with expression')\n",
    "ax.set_xlabel('Expressed Level')\n",
    "ax.set_title('Histogram of Genes Expressed in 53 Human Tissue Samples')\n",
    "\n",
    "# Tweak spacing to prevent clipping of ylabel\n",
    "fig.tight_layout()\n",
    "plt.show()"
   ]
  },
  {
   "cell_type": "code",
   "execution_count": 9,
   "metadata": {},
   "outputs": [
    {
     "data": {
      "text/plain": [
       "81.0"
      ]
     },
     "execution_count": 9,
     "metadata": {},
     "output_type": "execute_result"
    }
   ],
   "source": [
    "np.max ([float(x) for x in data[0][2:] if x])"
   ]
  },
  {
   "cell_type": "markdown",
   "metadata": {},
   "source": [
    "Attemping a PCA with the same data"
   ]
  },
  {
   "cell_type": "code",
   "execution_count": 10,
   "metadata": {
    "collapsed": true,
    "scrolled": false
   },
   "outputs": [],
   "source": [
    "from sklearn.decomposition import PCA\n",
    "from sklearn.cluster import KMeans\n",
    "\n",
    "X = []\n",
    "\n",
    "for line in data[:,2:]:\n",
    "    row = []\n",
    "    for x in line:\n",
    "        if x and  x!= '0.2s':\n",
    "            row.append(float(x))\n",
    "        else:\n",
    "            row.append(0.0)\n",
    "    X.append(row)\n",
    "\n",
    "X = np.array(X)\n",
    "kmeans = KMeans(n_clusters=4, random_state=0).fit(X)\n",
    "L = kmeans.labels_\n",
    "centroids = kmeans.cluster_centers_\n",
    "\n",
    "pca = PCA(n_components=2)\n",
    "X_r = pca.fit(X).transform(X)\n",
    "\n"
   ]
  },
  {
   "cell_type": "code",
   "execution_count": 11,
   "metadata": {},
   "outputs": [
    {
     "data": {
      "image/png": "[encoded data removed]",
      "text/plain": [
       "<matplotlib.figure.Figure at 0x12c288890>"
      ]
     },
     "metadata": {},
     "output_type": "display_data"
    }
   ],
   "source": [
    "fig.tight_layout()\n",
    "plt.scatter(X_r[:,0], X_r[:,1], 3, L)\n",
    "plt.axis((0, 8000, 0, 6000))\n",
    "plt.title(\"2D PCA of RNA-seq from 53 human tissue samples from the GTEx\")\n",
    "plt.xlabel(\"PCA 1\")\n",
    "plt.ylabel(\"PCA 2\")\n",
    "plt.show()\n"
   ]
  },
  {
   "cell_type": "markdown",
   "metadata": {},
   "source": [
    "Scatter plot of the first two principal components of the data with 4 Kmeans clusters of varying colors"
   ]
  },
  {
   "cell_type": "code",
   "execution_count": 12,
   "metadata": {},
   "outputs": [],
   "source": [
    "newarray=[]\n",
    "for row in X_r:\n",
    "    if row[0]<10000 and row[1]<10000:\n",
    "        newarray.append(row)"
   ]
  },
  {
   "cell_type": "code",
   "execution_count": 13,
   "metadata": {},
   "outputs": [
    {
     "data": {
      "text/plain": [
       "46682"
      ]
     },
     "execution_count": 13,
     "metadata": {},
     "output_type": "execute_result"
    }
   ],
   "source": [
    "len(newarray)"
   ]
  },
  {
   "cell_type": "code",
   "execution_count": 14,
   "metadata": {},
   "outputs": [
    {
     "data": {
      "text/plain": [
       "46711"
      ]
     },
     "execution_count": 14,
     "metadata": {},
     "output_type": "execute_result"
    }
   ],
   "source": [
    "len(X_r)"
   ]
  },
  {
   "cell_type": "code",
   "execution_count": 16,
   "metadata": {},
   "outputs": [
    {
     "data": {
      "image/png": "[encoded data removed]",
      "text/plain": [
       "<matplotlib.figure.Figure at 0x145057e10>"
      ]
     },
     "metadata": {},
     "output_type": "display_data"
    }
   ],
   "source": [
    "columns = [40,42,51]\n",
    "sub = np.zeros((data.shape[0], 3))\n",
    "for i in range(3):\n",
    "    col = []\n",
    "    for x in data[:, columns[i]]:\n",
    "        if x:\n",
    "            col.append(float(x))\n",
    "        else:\n",
    "            col.append(-10.0)\n",
    "    sub[:,i] = col\n",
    "\n",
    "num_bins = 10000\n",
    "colors = ['red', 'tan', 'lime']\n",
    "labels = [names[columns[i]] for i in range(3)]\n",
    "fig, ax = plt.subplots()\n",
    "ax.set_xlim (-5,100)\n",
    "ax.hist(sub, num_bins, histtype='bar', stacked=False, color=colors, label=labels)\n",
    "ax.set_title('Multiple histograms')\n",
    "ax.legend(prop={'size': 10})\n",
    "\n",
    "fig.tight_layout()\n",
    "plt.show()\n"
   ]
  },
  {
   "cell_type": "code",
   "execution_count": 19,
   "metadata": {},
   "outputs": [
    {
     "data": {
      "image/png": "[encoded data removed]",
      "text/plain": [
       "<matplotlib.figure.Figure at 0x14b0e68d0>"
      ]
     },
     "metadata": {},
     "output_type": "display_data"
    }
   ],
   "source": [
    "columns = [40,42,51]\n",
    "n = data.shape[0]\n",
    "perm = np.random.permutation(n)\n",
    "subset = data[perm[:5],:]\n",
    "\n",
    "sub = np.zeros((5, 3))\n",
    "for i in range(3):\n",
    "    col = []\n",
    "    for x in subset[:, columns[i]]:\n",
    "        if x:\n",
    "            col.append(float(x))\n",
    "        else:\n",
    "            col.append(-10.0)\n",
    "    sub[:,i] = col\n",
    "\n",
    "num_bins = 10\n",
    "colors = ['red', 'tan', 'lime']\n",
    "labels = [names[columns[i]] for i in range(3)]\n",
    "fig, ax = plt.subplots()\n",
    "ax.set_xlim (-5,100)\n",
    "ax.hist(sub, num_bins, histtype='bar', stacked=False, color=colors, label=labels)\n",
    "ax.set_title('Multiple histograms')\n",
    "ax.legend(prop={'size': 10})\n",
    "\n",
    "fig.tight_layout()\n",
    "plt.show()"
   ]
  },
  {
   "cell_type": "code",
   "execution_count": 20,
   "metadata": {},
   "outputs": [
    {
     "ename": "IndexError",
     "evalue": "too many indices for array",
     "output_type": "error",
     "traceback": [
      "\u001b[0;31m---------------------------------------------------------------------------\u001b[0m",
      "\u001b[0;31mIndexError\u001b[0m                                Traceback (most recent call last)",
      "\u001b[0;32m<ipython-input-20-b4a32ef17682>\u001b[0m in \u001b[0;36m<module>\u001b[0;34m()\u001b[0m\n\u001b[0;32m----> 1\u001b[0;31m \u001b[0;32mprint\u001b[0m\u001b[0;34m(\u001b[0m\u001b[0mperm\u001b[0m\u001b[0;34m[\u001b[0m\u001b[0;34m:\u001b[0m\u001b[0;34m,\u001b[0m\u001b[0;36m5\u001b[0m\u001b[0;34m]\u001b[0m\u001b[0;34m)\u001b[0m\u001b[0;34m\u001b[0m\u001b[0m\n\u001b[0m",
      "\u001b[0;31mIndexError\u001b[0m: too many indices for array"
     ]
    }
   ],
   "source": [
    "print(perm[:5])"
   ]
  },
  {
   "cell_type": "code",
   "execution_count": null,
   "metadata": {
    "collapsed": true
   },
   "outputs": [],
   "source": []
  }
 ],
 "metadata": {
  "kernelspec": {
   "display_name": "Python 2",
   "language": "python",
   "name": "python2"
  },
  "language_info": {
   "codemirror_mode": {
    "name": "ipython",
    "version": 2
   },
   "file_extension": ".py",
   "mimetype": "text/x-python",
   "name": "python",
   "nbconvert_exporter": "python",
   "pygments_lexer": "ipython2",
   "version": "2.7.13"
  }
 },
 "nbformat": 4,
 "nbformat_minor": 2
}
